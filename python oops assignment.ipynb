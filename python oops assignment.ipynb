{
 "cells": [
  {
   "cell_type": "markdown",
   "id": "0771835b-369f-49d1-ac37-760a0e90ab77",
   "metadata": {},
   "source": [
    "Q1. Explain Class and Object with respect to Object-Oriented Programming. Give a suitable example."
   ]
  },
  {
   "cell_type": "markdown",
   "id": "ffc43c60-0db1-43b0-9c2e-4ffaf9647a05",
   "metadata": {},
   "source": [
    "A class is a blueprint for creating objects providing initial values for state , and implementations of behavior.\n",
    "\n",
    "An object is an instance of a class, created at runtime. Each object has its own unique set of attributes and methods that operate on that data."
   ]
  },
  {
   "cell_type": "code",
   "execution_count": 6,
   "id": "22e832ca-ed5e-4e26-ad46-ced07314fb45",
   "metadata": {},
   "outputs": [],
   "source": [
    "#example \n",
    "\n",
    "class bike :\n",
    "    def __init__(self, company , name , model , cc):\n",
    "        self.company = company\n",
    "        self.name = name\n",
    "        self.model = model\n",
    "        self.cc = cc\n",
    "        \n",
    "    def  description(self):\n",
    "        return self.company , self.name , self.model , self.cc"
   ]
  },
  {
   "cell_type": "code",
   "execution_count": 7,
   "id": "0c6a3968-3c97-4301-a3e2-356a184f29b7",
   "metadata": {},
   "outputs": [],
   "source": [
    "raider = bike( 'tvs' , \"raider\" , \"disc\" , 125)"
   ]
  },
  {
   "cell_type": "code",
   "execution_count": 8,
   "id": "35ba9d7c-6737-4fd7-b8f1-f326e22c9e4a",
   "metadata": {},
   "outputs": [
    {
     "data": {
      "text/plain": [
       "('tvs', 'raider', 'disc', 125)"
      ]
     },
     "execution_count": 8,
     "metadata": {},
     "output_type": "execute_result"
    }
   ],
   "source": [
    "raider. description()"
   ]
  },
  {
   "cell_type": "code",
   "execution_count": 9,
   "id": "e6e112b0-2255-45b8-9316-5c7b80d861b2",
   "metadata": {},
   "outputs": [
    {
     "data": {
      "text/plain": [
       "('tvs', 'raider', 'disc', 125)"
      ]
     },
     "execution_count": 9,
     "metadata": {},
     "output_type": "execute_result"
    }
   ],
   "source": [
    "raider.description()"
   ]
  },
  {
   "cell_type": "code",
   "execution_count": 10,
   "id": "03b583e1-8808-41ce-9f45-3bac47036fba",
   "metadata": {},
   "outputs": [
    {
     "data": {
      "text/plain": [
       "('tvs', 'raider', 'disc', 125)"
      ]
     },
     "execution_count": 10,
     "metadata": {},
     "output_type": "execute_result"
    }
   ],
   "source": [
    "raider.description()"
   ]
  },
  {
   "cell_type": "markdown",
   "id": "78b02c73-e442-49ae-af38-e631f5a3e4d4",
   "metadata": {},
   "source": [
    "Q2. Name the four pillars of OOPs"
   ]
  },
  {
   "cell_type": "markdown",
   "id": "b2671e47-d8ec-454b-8afb-dac6a5a1792d",
   "metadata": {},
   "source": [
    "Encapsulation\n",
    "\n",
    "\n",
    "Inheritance\n",
    "\n",
    "\n",
    "Polymorphism\n",
    "\n",
    "\n",
    "Abstraction"
   ]
  },
  {
   "cell_type": "markdown",
   "id": "11149d95-87f5-47a5-9e5b-867244220dd6",
   "metadata": {},
   "source": [
    "Q3. Explain why the init() function is used. Give a suitable example."
   ]
  },
  {
   "cell_type": "markdown",
   "id": "2e6608e4-444a-4542-afe5-84b169692825",
   "metadata": {},
   "source": [
    "The init method is a special method in Python classes that acts as a constructor. It is automatically called when an object of the class is created. The init method is used to initialize the attributes of the class and set the default values.\n",
    "\n"
   ]
  },
  {
   "cell_type": "code",
   "execution_count": 11,
   "id": "773a559e-4399-42d9-9453-c6081980b141",
   "metadata": {},
   "outputs": [],
   "source": [
    "\n",
    "# Example\n",
    "\n",
    "class laptop :\n",
    "    def __init__(self, name , model , price):\n",
    "        self.name = name\n",
    "        self.model = model\n",
    "        self.price = price\n",
    "        \n",
    "    def laptop_description(self):\n",
    "        return self.name , self.model , self.price"
   ]
  },
  {
   "cell_type": "code",
   "execution_count": 12,
   "id": "52dae124-ce5a-4e42-9f66-404d25b1eb63",
   "metadata": {},
   "outputs": [],
   "source": [
    "hp = laptop(\"hp\" , \"victus\" , \"60k\")"
   ]
  },
  {
   "cell_type": "code",
   "execution_count": 13,
   "id": "355370b7-da63-4288-a182-5e01b2539da2",
   "metadata": {},
   "outputs": [
    {
     "data": {
      "text/plain": [
       "('hp', 'victus', '60k')"
      ]
     },
     "execution_count": 13,
     "metadata": {},
     "output_type": "execute_result"
    }
   ],
   "source": [
    "hp.laptop_description()"
   ]
  },
  {
   "cell_type": "markdown",
   "id": "0910606a-0aec-4652-b265-d9d940c06f23",
   "metadata": {},
   "source": [
    "Q4. Why self is used in OOPs?"
   ]
  },
  {
   "cell_type": "markdown",
   "id": "7da2a983-abe1-439b-9b9d-c4e8fb864d68",
   "metadata": {},
   "source": [
    "self is a reference to the current instance of the class. It is used to access the attributes and methods of the class within the class definition\n",
    "\n"
   ]
  },
  {
   "cell_type": "markdown",
   "id": "84d53dab-0ca2-45e0-bc69-f3033d3114f1",
   "metadata": {},
   "source": [
    "\n",
    "Q5. What is inheritance? Give an example for each type of inheritance."
   ]
  },
  {
   "cell_type": "markdown",
   "id": "3a1b8be8-e6f5-4067-9b28-a4e68052c55d",
   "metadata": {},
   "source": [
    "inheritance is a mechanism in object-oriented programming that allows a new class to be derived from an existing class, inheriting its attributes and behavior. This is useful for creating new classes that are related to existing classes and share some of their functionality."
   ]
  },
  {
   "cell_type": "markdown",
   "id": "940d7d6d-fa76-4bb5-8ea0-490e1aecae12",
   "metadata": {},
   "source": [
    "Types of Inheritance"
   ]
  },
  {
   "cell_type": "markdown",
   "id": "89b90462-ae60-4b88-9d50-e6a1c8ea097c",
   "metadata": {},
   "source": [
    "1. Single Inheritance\n"
   ]
  },
  {
   "cell_type": "markdown",
   "id": "d45a706e-d68a-45bf-821c-c81c65509aee",
   "metadata": {},
   "source": [
    "Single inheritance enables a derived class to inherit properties from a single parent class, thus enabling code reusability and the addition of new features to existing code.\n",
    "\n"
   ]
  },
  {
   "cell_type": "markdown",
   "id": "f903613b-5416-4e45-b88a-fc6fccbe11a3",
   "metadata": {},
   "source": [
    "#example\n",
    "class Parent:\n",
    "    def func1(self):\n",
    "        print(\"This function is in parent class.\")\n",
    "class Child(Parent):\n",
    "    def func2(self):\n",
    "        print(\"This function is in child class.\")\n",
    "\n",
    "object = Child()\n",
    "object.func1()\n",
    "object.func2()\n"
   ]
  },
  {
   "cell_type": "markdown",
   "id": "8ac900eb-a0a5-4020-877d-5d7c0128fcdf",
   "metadata": {},
   "source": [
    "2. Multiple Inheritance:"
   ]
  },
  {
   "cell_type": "markdown",
   "id": "b4303260-c4bf-4c7c-b188-ccd1972768eb",
   "metadata": {},
   "source": [
    "When a class can be derived from more than one base class this type of inheritance is called multiple inheritances. In multiple inheritances, all the features of the base classes are inherited into the derived class.\n",
    "\n"
   ]
  },
  {
   "cell_type": "code",
   "execution_count": 23,
   "id": "08c6a83a-4c3c-4c60-80b9-ef876e458c7c",
   "metadata": {},
   "outputs": [
    {
     "name": "stdout",
     "output_type": "stream",
     "text": [
      "father ram\n",
      "mother sita\n"
     ]
    }
   ],
   "source": [
    "class mother:\n",
    "    mothername = \"\"\n",
    "    \n",
    "    def mother(self):\n",
    "        print(self.mothername)\n",
    "        \n",
    "class father :\n",
    "    fathername = \"\"\n",
    "    \n",
    "    def father(self):\n",
    "        print(self.fathername)\n",
    "        \n",
    "        \n",
    "class son(mother , father):\n",
    "    \n",
    "    def parents(self):\n",
    "        print(\"father\", self.fathername)\n",
    "        print(\"mother\", self.mothername)\n",
    "\n",
    "s1 = son()\n",
    "s1.fathername = \"ram\"\n",
    "s1.mothername = \"sita\"\n",
    "s1.parents()"
   ]
  },
  {
   "cell_type": "markdown",
   "id": "f0599068-88d8-45dc-b22e-14494b05b55a",
   "metadata": {},
   "source": [
    "3. Multilevel Inheritance :"
   ]
  },
  {
   "cell_type": "markdown",
   "id": "e3b9ab0a-bfde-43b5-8d3a-93782a50642a",
   "metadata": {},
   "source": [
    "In multilevel inheritance, features of the base class and the derived class are further inherited into the new derived class. This is similar to a relationship representing a child and a grandfather."
   ]
  },
  {
   "cell_type": "code",
   "execution_count": 24,
   "id": "8bf914c7-161c-4970-91af-c87151dadf60",
   "metadata": {},
   "outputs": [
    {
     "name": "stdout",
     "output_type": "stream",
     "text": [
      "Lal mani\n",
      "Grandfather name : Lal mani\n",
      "Father name : Rampal\n",
      "Son name : Prince\n"
     ]
    }
   ],
   "source": [
    "class Grandfather:\n",
    " \n",
    "    def __init__(self, grandfathername):\n",
    "        self.grandfathername = grandfathername\n",
    " \n",
    "\n",
    "class Father(Grandfather):\n",
    "    def __init__(self, fathername, grandfathername):\n",
    "        self.fathername = fathername\n",
    " \n",
    "       \n",
    "        Grandfather.__init__(self, grandfathername)\n",
    " \n",
    "\n",
    " \n",
    " \n",
    "class Son(Father):\n",
    "    def __init__(self, sonname, fathername, grandfathername):\n",
    "        self.sonname = sonname\n",
    " \n",
    "\n",
    "        Father.__init__(self, fathername, grandfathername)\n",
    " \n",
    "    def print_name(self):\n",
    "        print('Grandfather name :', self.grandfathername)\n",
    "        print(\"Father name :\", self.fathername)\n",
    "        print(\"Son name :\", self.sonname)\n",
    " \n",
    " \n",
    "#  Driver code\n",
    "s1 = Son('Prince', 'Rampal', 'Lal mani')\n",
    "print(s1.grandfathername)\n",
    "s1.print_name()\n",
    "     "
   ]
  },
  {
   "cell_type": "markdown",
   "id": "b6ca1d87-adae-4f7c-9f22-3311e0e64f44",
   "metadata": {},
   "source": [
    "4. Hierarchical Inheritance:"
   ]
  },
  {
   "cell_type": "markdown",
   "id": "bc795d69-6884-4e12-bc1d-ff6b882649fc",
   "metadata": {},
   "source": [
    "When more than one derived class are created from a single base this type of inheritance is called hierarchical inheritance. In this program, we have a parent (base) class and two child (derived) classes."
   ]
  },
  {
   "cell_type": "code",
   "execution_count": 25,
   "id": "a1637ca2-df15-4d61-80e0-885a2a41a67f",
   "metadata": {},
   "outputs": [
    {
     "name": "stdout",
     "output_type": "stream",
     "text": [
      "This function is in parent class.\n",
      "This function is in child 1.\n",
      "This function is in parent class.\n",
      "This function is in child 2.\n"
     ]
    }
   ],
   "source": [
    "class Parent:\n",
    "    def func1(self):\n",
    "        print(\"This function is in parent class.\")\n",
    " \n",
    "# Derived class1\n",
    " \n",
    " \n",
    "class Child1(Parent):\n",
    "    def func2(self):\n",
    "        print(\"This function is in child 1.\")\n",
    " \n",
    "# Derivied class2\n",
    " \n",
    " \n",
    "class Child2(Parent):\n",
    "    def func3(self):\n",
    "        print(\"This function is in child 2.\")\n",
    " \n",
    " \n",
    "# Driver's code\n",
    "object1 = Child1()\n",
    "object2 = Child2()\n",
    "object1.func1()\n",
    "object1.func2()\n",
    "object2.func1()\n",
    "object2.func3()"
   ]
  },
  {
   "cell_type": "markdown",
   "id": "d4472280-1015-4aa8-95d5-3ce0ab3fd271",
   "metadata": {},
   "source": [
    "5. Hybrid Inheritance:"
   ]
  },
  {
   "cell_type": "markdown",
   "id": "7e03ffdb-02b9-4ca5-a36d-ab2d7f3ca00d",
   "metadata": {},
   "source": [
    "Inheritance consisting of multiple types of inheritance is called hybrid inheritance."
   ]
  },
  {
   "cell_type": "code",
   "execution_count": 27,
   "id": "a2954405-a23a-4d9c-95ea-dcb2df8eee17",
   "metadata": {},
   "outputs": [
    {
     "name": "stdout",
     "output_type": "stream",
     "text": [
      "This function is in school.\n",
      "This function is in student 1. \n"
     ]
    }
   ],
   "source": [
    "class School:\n",
    "    def func1(self):\n",
    "        print(\"This function is in school.\")\n",
    " \n",
    " \n",
    "class Student1(School):\n",
    "    def func2(self):\n",
    "        print(\"This function is in student 1. \")\n",
    " \n",
    " \n",
    "class Student2(School):\n",
    "    def func3(self):\n",
    "        print(\"This function is in student 2.\")\n",
    " \n",
    " \n",
    "class Student3(Student1, School):\n",
    "    def func4(self):\n",
    "        print(\"This function is in student 3.\")\n",
    " \n",
    " \n",
    "# Driver's code\n",
    "object = Student3()\n",
    "object.func1()\n",
    "object.func2()"
   ]
  },
  {
   "cell_type": "code",
   "execution_count": null,
   "id": "ffb009b4-568f-4390-a4cb-938145f475c9",
   "metadata": {},
   "outputs": [],
   "source": []
  }
 ],
 "metadata": {
  "kernelspec": {
   "display_name": "Python 3 (ipykernel)",
   "language": "python",
   "name": "python3"
  },
  "language_info": {
   "codemirror_mode": {
    "name": "ipython",
    "version": 3
   },
   "file_extension": ".py",
   "mimetype": "text/x-python",
   "name": "python",
   "nbconvert_exporter": "python",
   "pygments_lexer": "ipython3",
   "version": "3.10.8"
  }
 },
 "nbformat": 4,
 "nbformat_minor": 5
}
